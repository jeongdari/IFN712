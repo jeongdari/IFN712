{
 "cells": [
  {
   "cell_type": "code",
   "execution_count": 1,
   "id": "fbe118a2-6fd3-4829-a5b5-b9ff93a812eb",
   "metadata": {},
   "outputs": [],
   "source": [
    "import pandas as pd\n",
    "from sklearn.model_selection import train_test_split\n",
    "from sklearn.preprocessing import StandardScaler, OneHotEncoder\n",
    "from sklearn.compose import ColumnTransformer\n",
    "from sklearn.metrics import mean_absolute_error\n",
    "\n",
    "# Load the dataset\n",
    "file_path = 'Merged_GNSS_and_SNR_Data.csv'\n",
    "gnss_data = pd.read_csv(file_path)\n",
    "\n",
    "# Define numerical and categorical columns\n",
    "numerical_cols = ['Phase Residual (m)', 'Pseudorange Residual (m)', \n",
    "                  'STD of Pseudorange L1 (m)', 'STD of Pseudorange L2 (m)', \n",
    "                  'Elevation (¡Æ)', 'Azimuth (¡Æ)', 'SNR(dBHz)']\n",
    "\n",
    "categorical_cols = ['PRN', 'Signal Type 1', 'Signal Type 2']\n",
    "\n",
    "# Drop irrelevant or target-related columns from input features\n",
    "X = gnss_data.drop(columns=['TIME', 'L1 MP(m)', 'C1 Code', 'C2 Code', 'DSI'])\n",
    "\n",
    "\n",
    "# Target variable (multipath effect on L1 MP)\n",
    "y = gnss_data['L1 MP(m)']\n",
    "\n",
    "# Preprocessing for numerical and categorical data\n",
    "preprocessor = ColumnTransformer(\n",
    "    transformers=[\n",
    "        ('num', StandardScaler(), numerical_cols),\n",
    "        ('cat', OneHotEncoder(handle_unknown='ignore'), categorical_cols)])\n",
    "\n",
    "# Split the data into training and test sets\n",
    "X_train, X_test, y_train, y_test = train_test_split(X, y, test_size=0.2, random_state=42)\n",
    "\n",
    "# Fit the preprocessor on the training data and transform both train and test sets\n",
    "X_train_preprocessed = preprocessor.fit_transform(X_train)\n",
    "X_test_preprocessed = preprocessor.transform(X_test)\n",
    "\n",
    "# Convert sparse matrices to dense\n",
    "X_train_preprocessed = X_train_preprocessed.toarray()  # Convert sparse matrix to dense\n",
    "X_test_preprocessed = X_test_preprocessed.toarray()    # Convert sparse matrix to dense"
   ]
  },
  {
   "cell_type": "code",
   "execution_count": 4,
   "id": "0273ce4c-63df-4498-9ce3-8317f807ad6e",
   "metadata": {},
   "outputs": [
    {
     "name": "stderr",
     "output_type": "stream",
     "text": [
      "/opt/anaconda3/envs/sklearn-env/lib/python3.12/site-packages/keras/src/layers/core/input_layer.py:26: UserWarning: Argument `input_shape` is deprecated. Use `shape` instead.\n",
      "  warnings.warn(\n"
     ]
    },
    {
     "data": {
      "text/html": [
       "<pre style=\"white-space:pre;overflow-x:auto;line-height:normal;font-family:Menlo,'DejaVu Sans Mono',consolas,'Courier New',monospace\"><span style=\"font-weight: bold\">Model: \"sequential\"</span>\n",
       "</pre>\n"
      ],
      "text/plain": [
       "\u001b[1mModel: \"sequential\"\u001b[0m\n"
      ]
     },
     "metadata": {},
     "output_type": "display_data"
    },
    {
     "data": {
      "text/html": [
       "<pre style=\"white-space:pre;overflow-x:auto;line-height:normal;font-family:Menlo,'DejaVu Sans Mono',consolas,'Courier New',monospace\">┏━━━━━━━━━━━━━━━━━━━━━━━━━━━━━━━━━┳━━━━━━━━━━━━━━━━━━━━━━━━┳━━━━━━━━━━━━━━━┓\n",
       "┃<span style=\"font-weight: bold\"> Layer (type)                    </span>┃<span style=\"font-weight: bold\"> Output Shape           </span>┃<span style=\"font-weight: bold\">       Param # </span>┃\n",
       "┡━━━━━━━━━━━━━━━━━━━━━━━━━━━━━━━━━╇━━━━━━━━━━━━━━━━━━━━━━━━╇━━━━━━━━━━━━━━━┩\n",
       "│ dense (<span style=\"color: #0087ff; text-decoration-color: #0087ff\">Dense</span>)                   │ (<span style=\"color: #00d7ff; text-decoration-color: #00d7ff\">None</span>, <span style=\"color: #00af00; text-decoration-color: #00af00\">128</span>)            │         <span style=\"color: #00af00; text-decoration-color: #00af00\">5,248</span> │\n",
       "├─────────────────────────────────┼────────────────────────┼───────────────┤\n",
       "│ dense_1 (<span style=\"color: #0087ff; text-decoration-color: #0087ff\">Dense</span>)                 │ (<span style=\"color: #00d7ff; text-decoration-color: #00d7ff\">None</span>, <span style=\"color: #00af00; text-decoration-color: #00af00\">64</span>)             │         <span style=\"color: #00af00; text-decoration-color: #00af00\">8,256</span> │\n",
       "├─────────────────────────────────┼────────────────────────┼───────────────┤\n",
       "│ dense_2 (<span style=\"color: #0087ff; text-decoration-color: #0087ff\">Dense</span>)                 │ (<span style=\"color: #00d7ff; text-decoration-color: #00d7ff\">None</span>, <span style=\"color: #00af00; text-decoration-color: #00af00\">1</span>)              │            <span style=\"color: #00af00; text-decoration-color: #00af00\">65</span> │\n",
       "└─────────────────────────────────┴────────────────────────┴───────────────┘\n",
       "</pre>\n"
      ],
      "text/plain": [
       "┏━━━━━━━━━━━━━━━━━━━━━━━━━━━━━━━━━┳━━━━━━━━━━━━━━━━━━━━━━━━┳━━━━━━━━━━━━━━━┓\n",
       "┃\u001b[1m \u001b[0m\u001b[1mLayer (type)                   \u001b[0m\u001b[1m \u001b[0m┃\u001b[1m \u001b[0m\u001b[1mOutput Shape          \u001b[0m\u001b[1m \u001b[0m┃\u001b[1m \u001b[0m\u001b[1m      Param #\u001b[0m\u001b[1m \u001b[0m┃\n",
       "┡━━━━━━━━━━━━━━━━━━━━━━━━━━━━━━━━━╇━━━━━━━━━━━━━━━━━━━━━━━━╇━━━━━━━━━━━━━━━┩\n",
       "│ dense (\u001b[38;5;33mDense\u001b[0m)                   │ (\u001b[38;5;45mNone\u001b[0m, \u001b[38;5;34m128\u001b[0m)            │         \u001b[38;5;34m5,248\u001b[0m │\n",
       "├─────────────────────────────────┼────────────────────────┼───────────────┤\n",
       "│ dense_1 (\u001b[38;5;33mDense\u001b[0m)                 │ (\u001b[38;5;45mNone\u001b[0m, \u001b[38;5;34m64\u001b[0m)             │         \u001b[38;5;34m8,256\u001b[0m │\n",
       "├─────────────────────────────────┼────────────────────────┼───────────────┤\n",
       "│ dense_2 (\u001b[38;5;33mDense\u001b[0m)                 │ (\u001b[38;5;45mNone\u001b[0m, \u001b[38;5;34m1\u001b[0m)              │            \u001b[38;5;34m65\u001b[0m │\n",
       "└─────────────────────────────────┴────────────────────────┴───────────────┘\n"
      ]
     },
     "metadata": {},
     "output_type": "display_data"
    },
    {
     "data": {
      "text/html": [
       "<pre style=\"white-space:pre;overflow-x:auto;line-height:normal;font-family:Menlo,'DejaVu Sans Mono',consolas,'Courier New',monospace\"><span style=\"font-weight: bold\"> Total params: </span><span style=\"color: #00af00; text-decoration-color: #00af00\">13,569</span> (53.00 KB)\n",
       "</pre>\n"
      ],
      "text/plain": [
       "\u001b[1m Total params: \u001b[0m\u001b[38;5;34m13,569\u001b[0m (53.00 KB)\n"
      ]
     },
     "metadata": {},
     "output_type": "display_data"
    },
    {
     "data": {
      "text/html": [
       "<pre style=\"white-space:pre;overflow-x:auto;line-height:normal;font-family:Menlo,'DejaVu Sans Mono',consolas,'Courier New',monospace\"><span style=\"font-weight: bold\"> Trainable params: </span><span style=\"color: #00af00; text-decoration-color: #00af00\">13,569</span> (53.00 KB)\n",
       "</pre>\n"
      ],
      "text/plain": [
       "\u001b[1m Trainable params: \u001b[0m\u001b[38;5;34m13,569\u001b[0m (53.00 KB)\n"
      ]
     },
     "metadata": {},
     "output_type": "display_data"
    },
    {
     "data": {
      "text/html": [
       "<pre style=\"white-space:pre;overflow-x:auto;line-height:normal;font-family:Menlo,'DejaVu Sans Mono',consolas,'Courier New',monospace\"><span style=\"font-weight: bold\"> Non-trainable params: </span><span style=\"color: #00af00; text-decoration-color: #00af00\">0</span> (0.00 B)\n",
       "</pre>\n"
      ],
      "text/plain": [
       "\u001b[1m Non-trainable params: \u001b[0m\u001b[38;5;34m0\u001b[0m (0.00 B)\n"
      ]
     },
     "metadata": {},
     "output_type": "display_data"
    }
   ],
   "source": [
    "import tensorflow as tf\n",
    "from keras import layers, models\n",
    "from sklearn.metrics import mean_absolute_error\n",
    "\n",
    "# Define the Fully Connected Neural Network (FCNN) model\n",
    "fcnn_model = models.Sequential()\n",
    "\n",
    "# Input layer\n",
    "fcnn_model.add(layers.InputLayer(input_shape=(X_train_preprocessed.shape[1],)))\n",
    "\n",
    "# Fully connected hidden layer 1\n",
    "fcnn_model.add(layers.Dense(128, activation='relu'))\n",
    "\n",
    "# Fully connected hidden layer 2\n",
    "fcnn_model.add(layers.Dense(64, activation='relu'))\n",
    "\n",
    "# Output layer (regression task for predicting L1 MP)\n",
    "fcnn_model.add(layers.Dense(1, activation='linear'))\n",
    "\n",
    "# Compile the model\n",
    "fcnn_model.compile(optimizer='adam', loss='mean_squared_error', metrics=['mean_absolute_error'])\n",
    "\n",
    "# Model summary\n",
    "fcnn_model.summary()"
   ]
  },
  {
   "cell_type": "code",
   "execution_count": 5,
   "id": "5cf6e459-5b42-4736-86e9-eb0497bf7584",
   "metadata": {},
   "outputs": [
    {
     "name": "stdout",
     "output_type": "stream",
     "text": [
      "Epoch 1/10\n",
      "\u001b[1m9388/9388\u001b[0m \u001b[32m━━━━━━━━━━━━━━━━━━━━\u001b[0m\u001b[37m\u001b[0m \u001b[1m3s\u001b[0m 298us/step - loss: 0.0304 - mean_absolute_error: 0.1199 - val_loss: 0.0266 - val_mean_absolute_error: 0.1130\n",
      "Epoch 2/10\n",
      "\u001b[1m9388/9388\u001b[0m \u001b[32m━━━━━━━━━━━━━━━━━━━━\u001b[0m\u001b[37m\u001b[0m \u001b[1m3s\u001b[0m 291us/step - loss: 0.0258 - mean_absolute_error: 0.1118 - val_loss: 0.0256 - val_mean_absolute_error: 0.1115\n",
      "Epoch 3/10\n",
      "\u001b[1m9388/9388\u001b[0m \u001b[32m━━━━━━━━━━━━━━━━━━━━\u001b[0m\u001b[37m\u001b[0m \u001b[1m3s\u001b[0m 293us/step - loss: 0.0267 - mean_absolute_error: 0.1108 - val_loss: 0.0256 - val_mean_absolute_error: 0.1102\n",
      "Epoch 4/10\n",
      "\u001b[1m9388/9388\u001b[0m \u001b[32m━━━━━━━━━━━━━━━━━━━━\u001b[0m\u001b[37m\u001b[0m \u001b[1m3s\u001b[0m 295us/step - loss: 0.0246 - mean_absolute_error: 0.1091 - val_loss: 0.0250 - val_mean_absolute_error: 0.1096\n",
      "Epoch 5/10\n",
      "\u001b[1m9388/9388\u001b[0m \u001b[32m━━━━━━━━━━━━━━━━━━━━\u001b[0m\u001b[37m\u001b[0m \u001b[1m3s\u001b[0m 295us/step - loss: 0.0245 - mean_absolute_error: 0.1087 - val_loss: 0.0246 - val_mean_absolute_error: 0.1087\n",
      "Epoch 6/10\n",
      "\u001b[1m9388/9388\u001b[0m \u001b[32m━━━━━━━━━━━━━━━━━━━━\u001b[0m\u001b[37m\u001b[0m \u001b[1m3s\u001b[0m 294us/step - loss: 0.0245 - mean_absolute_error: 0.1083 - val_loss: 0.0244 - val_mean_absolute_error: 0.1084\n",
      "Epoch 7/10\n",
      "\u001b[1m9388/9388\u001b[0m \u001b[32m━━━━━━━━━━━━━━━━━━━━\u001b[0m\u001b[37m\u001b[0m \u001b[1m3s\u001b[0m 297us/step - loss: 0.0247 - mean_absolute_error: 0.1078 - val_loss: 0.0243 - val_mean_absolute_error: 0.1085\n",
      "Epoch 8/10\n",
      "\u001b[1m9388/9388\u001b[0m \u001b[32m━━━━━━━━━━━━━━━━━━━━\u001b[0m\u001b[37m\u001b[0m \u001b[1m3s\u001b[0m 293us/step - loss: 0.0243 - mean_absolute_error: 0.1072 - val_loss: 0.0245 - val_mean_absolute_error: 0.1088\n",
      "Epoch 9/10\n",
      "\u001b[1m9388/9388\u001b[0m \u001b[32m━━━━━━━━━━━━━━━━━━━━\u001b[0m\u001b[37m\u001b[0m \u001b[1m3s\u001b[0m 293us/step - loss: 0.0243 - mean_absolute_error: 0.1070 - val_loss: 0.0244 - val_mean_absolute_error: 0.1085\n",
      "Epoch 10/10\n",
      "\u001b[1m9388/9388\u001b[0m \u001b[32m━━━━━━━━━━━━━━━━━━━━\u001b[0m\u001b[37m\u001b[0m \u001b[1m3s\u001b[0m 297us/step - loss: 0.0238 - mean_absolute_error: 0.1064 - val_loss: 0.0237 - val_mean_absolute_error: 0.1066\n"
     ]
    }
   ],
   "source": [
    "# Train the FCNN model\n",
    "fcnn_history = fcnn_model.fit(X_train_preprocessed, y_train, epochs=10, batch_size=32, validation_data=(X_test_preprocessed, y_test))\n"
   ]
  },
  {
   "cell_type": "code",
   "execution_count": 6,
   "id": "62b9bb95-a66d-417c-a66d-3b91439c4920",
   "metadata": {},
   "outputs": [
    {
     "name": "stdout",
     "output_type": "stream",
     "text": [
      "\u001b[1m2347/2347\u001b[0m \u001b[32m━━━━━━━━━━━━━━━━━━━━\u001b[0m\u001b[37m\u001b[0m \u001b[1m0s\u001b[0m 177us/step\n",
      "Fully Connected Neural Network MAE: 0.10655459468799028\n"
     ]
    }
   ],
   "source": [
    "# Predict using the FCNN model\n",
    "y_pred_fcnn = fcnn_model.predict(X_test_preprocessed)\n",
    "\n",
    "# Calculate MAE for the FCNN\n",
    "fcnn_mae = mean_absolute_error(y_test, y_pred_fcnn)\n",
    "print(f\"Fully Connected Neural Network MAE: {fcnn_mae}\")"
   ]
  },
  {
   "cell_type": "code",
   "execution_count": null,
   "id": "fecdc70d-29a5-45cc-9452-326facd4aeb8",
   "metadata": {},
   "outputs": [],
   "source": []
  }
 ],
 "metadata": {
  "kernelspec": {
   "display_name": "sklearn-env",
   "language": "python",
   "name": "sklearn-env"
  },
  "language_info": {
   "codemirror_mode": {
    "name": "ipython",
    "version": 3
   },
   "file_extension": ".py",
   "mimetype": "text/x-python",
   "name": "python",
   "nbconvert_exporter": "python",
   "pygments_lexer": "ipython3",
   "version": "3.12.5"
  }
 },
 "nbformat": 4,
 "nbformat_minor": 5
}
